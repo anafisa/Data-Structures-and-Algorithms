{
 "cells": [
  {
   "cell_type": "markdown",
   "metadata": {},
   "source": [
    "## Стек с поддержкой максимума"
   ]
  },
  {
   "cell_type": "markdown",
   "metadata": {},
   "source": [
    "Реализовать стек с поддержкой операций push, pop и max.\n",
    "\n",
    "__Вход.__ Последовательность запросов push, pop и max. \n",
    "\n",
    "__Выход.__ Для каждого запроса max вывести максимальное число, находящее на стеке."
   ]
  },
  {
   "cell_type": "markdown",
   "metadata": {},
   "source": [
    "Стек — абстрактная структура данных, поддерживающая операции push и pop. Несложно реализовать стек так, чтобы обе эти операции работали за константное время. В данной задача ваша цель — расшить интерфейс стека так, чтобы он дополнительно поддерживал операцию max и при этом чтобы время работы всех операций по-прежнему было константным."
   ]
  },
  {
   "cell_type": "code",
   "execution_count": 1,
   "metadata": {},
   "outputs": [],
   "source": [
    "# Особенность задачи заключается в том, что хранить сами значения в стеке необязательно -- \n",
    "# стоит лишь хранить максимальное значение в стеке на момент записи числа\n",
    "def stack_with_max(stack, operation, element=''):\n",
    "    stack = [stack]\n",
    "    if operation == 'pop':\n",
    "        stack.pop()\n",
    "        return stack\n",
    "    elif operation =='push':\n",
    "        stack.append(max(stack[-1], element))\n",
    "        return stack\n",
    "    else:\n",
    "        print(stack[-1])\n",
    "        return max"
   ]
  },
  {
   "cell_type": "code",
   "execution_count": 2,
   "metadata": {},
   "outputs": [
    {
     "data": {
      "text/plain": [
       "[5, 6]"
      ]
     },
     "execution_count": 2,
     "metadata": {},
     "output_type": "execute_result"
    }
   ],
   "source": [
    "stack = 5\n",
    "operation = 'push'\n",
    "element = 6\n",
    "stack_with_max(stack, operation, element)"
   ]
  },
  {
   "cell_type": "code",
   "execution_count": 3,
   "metadata": {},
   "outputs": [
    {
     "name": "stdout",
     "output_type": "stream",
     "text": [
      "5\n",
      "push 1\n",
      "push 2\n",
      "max\n",
      "2\n",
      "pop\n",
      "max\n",
      "1\n"
     ]
    }
   ],
   "source": [
    "# Особенность задачи заключается в том, что хранить сами значения в стеке необязательно -- \n",
    "# стоит лишь хранить максимальное значение в стеке на момент записи числа\n",
    "import sys\n",
    "\n",
    "n = int(input())\n",
    "stack = [0]\n",
    "for _ in range(n):\n",
    "    command = input().split()\n",
    "    if command[0] == 'pop':\n",
    "        stack.pop()\n",
    "    elif command[0] =='push':\n",
    "        stack.append(max(stack[-1], int(command[1])))\n",
    "    else:\n",
    "        print(stack[-1])\n",
    "    "
   ]
  },
  {
   "cell_type": "markdown",
   "metadata": {},
   "source": [
    "Sample Input:\n",
    "\n",
    "5\n",
    "\n",
    "push 1\n",
    "\n",
    "push 2\n",
    "\n",
    "max\n",
    "\n",
    "pop\n",
    "\n",
    "max\n",
    "\n",
    "Sample Output:\n",
    "\n",
    "2\n",
    "\n",
    "1"
   ]
  },
  {
   "cell_type": "code",
   "execution_count": null,
   "metadata": {},
   "outputs": [],
   "source": []
  }
 ],
 "metadata": {
  "kernelspec": {
   "display_name": "Python 3",
   "language": "python",
   "name": "python3"
  },
  "language_info": {
   "codemirror_mode": {
    "name": "ipython",
    "version": 3
   },
   "file_extension": ".py",
   "mimetype": "text/x-python",
   "name": "python",
   "nbconvert_exporter": "python",
   "pygments_lexer": "ipython3",
   "version": "3.7.4"
  }
 },
 "nbformat": 4,
 "nbformat_minor": 2
}

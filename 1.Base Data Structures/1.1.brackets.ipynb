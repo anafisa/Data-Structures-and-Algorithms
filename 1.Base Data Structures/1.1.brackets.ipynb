{
 "cells": [
  {
   "cell_type": "markdown",
   "metadata": {},
   "source": [
    "## Скобки в коде\n"
   ]
  },
  {
   "cell_type": "markdown",
   "metadata": {},
   "source": [
    "Проверить, правильно ли расставлены скобки в данном коде.\n",
    "\n",
    "__Вход.__ Исходный код программы.\n",
    "\n",
    "__Выход.__ Проверить, верно ли расставлены скобки. Если нет, выдать индекс первой ошибки."
   ]
  },
  {
   "cell_type": "markdown",
   "metadata": {},
   "source": [
    "Вы разрабатываете текстовый редактор для программистов и хотите реализовать проверку корректности расстановки скобок. В коде могут встречаться скобки []{}(). Из них скобки [,{ и ( считаются открывающими, а соответству- ющими им закрывающими скобками являются ],} и ).\n",
    "\n",
    "В случае, если скобки расставлены неправильно, редактор должен также сообщить пользователю первое место, где обнаружена ошибка. В первую очередь необходимо найти закрывающую скобку, для кото- рой либо нет соответствующей открывающей (например, скобка ] в строке “]()”), либо же она закрывает не соответствующую ей откры- вающую скобку (пример: “()[}”). Если таких ошибок нет, необходи- мо найти первую открывающую скобку, для которой нет соответству- ющей закрывающей (пример: скобка ( в строке “{}([]”).\n",
    "\n",
    "Помимо скобок, исходный код может содержать символы латин- ского алфавита, цифры и знаки препинания.\n",
    "\n",
    "__Формат входа.__ Строка s[1 . . . n], состоящая из заглавных и пропис- ных букв латинского алфавита, цифр, знаков препинания и ско- бок из множества []{}().\n",
    "\n",
    "__Формат выхода.__ Если скобки в s расставлены правильно, выведите строку “Success\". В противном случае выведите индекс (исполь- зуя индексацию с единицы) первой закрывающей скобки, для которой нет соответствующей открывающей. Если такой нет, выведите индекс первой открывающей скобки, для которой нет соответствующей закрывающей."
   ]
  },
  {
   "cell_type": "code",
   "execution_count": 1,
   "metadata": {},
   "outputs": [],
   "source": [
    "def check_brackets(string):\n",
    "    stack = []\n",
    "    for i in range(len(string)):\n",
    "        if string[i] in ['(', '[', '{', ']', ')', '}']:\n",
    "            char = string[i]\n",
    "            if char in ['(', '[', '{']:\n",
    "                stack.append(char)\n",
    "            else:\n",
    "                if len(stack) == 0:\n",
    "                    return i+1\n",
    "                else:\n",
    "                    top = stack.pop()\n",
    "                    if (top == '[' and char != ']') or (top == '(' and char != ')') or (top == '{' and char != '}'):\n",
    "                        return i+1\n",
    "    if len(stack)==0:\n",
    "        return 'Success'\n",
    "    else:\n",
    "        return i+1\n",
    "            \n",
    "    "
   ]
  },
  {
   "cell_type": "code",
   "execution_count": 2,
   "metadata": {},
   "outputs": [],
   "source": [
    "def check_brackets(s):\n",
    "    stack = []\n",
    "    for i in range(len(s)):\n",
    "        if s[i] in ['[', '(', '{']: # если встречается откр скобка\n",
    "            stack.append(i) # кладем её позицию в стек\n",
    "        elif s[i] in [']', ')', '}']: # если встречается закр скобка\n",
    "            if len(stack) > 0: # проверяем не пуст ли стек\n",
    "                top = stack.pop() # если стек не пуст, берем последний элемент\n",
    "                if s[top] + s[i] not in ['[]', '()', '{}']: # если скобки не подходят друг другу \n",
    "                    return i+1 # выводим позицию ошибки\n",
    "            else:\n",
    "                return i+1 # выводим позицию ошибки\n",
    "\n",
    "    return 'Success' if len(stack) == 0 else stack[0]+1"
   ]
  },
  {
   "cell_type": "code",
   "execution_count": 3,
   "metadata": {},
   "outputs": [],
   "source": [
    "def check_brackets(string):\n",
    "    braces = {')': '(', '}': '{', ']': '['}\n",
    "    stack = []\n",
    "    for i, c in enumerate(string, start=1):\n",
    "        if c in braces.values():\n",
    "            stack.append((c, i)) # храним в стеке и скобку и её позицию\n",
    "        if c in braces and (not stack or braces[c] != stack.pop()[0]): # доступ к соотв откр и закр скобкам по словарю\n",
    "            return i\n",
    "    return stack.pop()[1] if stack else 'Success'"
   ]
  },
  {
   "cell_type": "code",
   "execution_count": 4,
   "metadata": {},
   "outputs": [
    {
     "data": {
      "text/plain": [
       "'Success'"
      ]
     },
     "execution_count": 4,
     "metadata": {},
     "output_type": "execute_result"
    }
   ],
   "source": [
    "check_brackets('[]')"
   ]
  },
  {
   "cell_type": "code",
   "execution_count": 5,
   "metadata": {},
   "outputs": [
    {
     "data": {
      "text/plain": [
       "'Success'"
      ]
     },
     "execution_count": 5,
     "metadata": {},
     "output_type": "execute_result"
    }
   ],
   "source": [
    "check_brackets('{}[]')"
   ]
  },
  {
   "cell_type": "code",
   "execution_count": 6,
   "metadata": {},
   "outputs": [
    {
     "data": {
      "text/plain": [
       "'Success'"
      ]
     },
     "execution_count": 6,
     "metadata": {},
     "output_type": "execute_result"
    }
   ],
   "source": [
    "check_brackets('[()]')"
   ]
  },
  {
   "cell_type": "code",
   "execution_count": 7,
   "metadata": {},
   "outputs": [
    {
     "data": {
      "text/plain": [
       "'Success'"
      ]
     },
     "execution_count": 7,
     "metadata": {},
     "output_type": "execute_result"
    }
   ],
   "source": [
    "check_brackets('(())')"
   ]
  },
  {
   "cell_type": "code",
   "execution_count": 8,
   "metadata": {},
   "outputs": [
    {
     "data": {
      "text/plain": [
       "'Success'"
      ]
     },
     "execution_count": 8,
     "metadata": {},
     "output_type": "execute_result"
    }
   ],
   "source": [
    "check_brackets('{[]}()')"
   ]
  },
  {
   "cell_type": "code",
   "execution_count": 9,
   "metadata": {},
   "outputs": [
    {
     "data": {
      "text/plain": [
       "1"
      ]
     },
     "execution_count": 9,
     "metadata": {},
     "output_type": "execute_result"
    }
   ],
   "source": [
    "check_brackets('{')"
   ]
  },
  {
   "cell_type": "code",
   "execution_count": 10,
   "metadata": {},
   "outputs": [
    {
     "data": {
      "text/plain": [
       "3"
      ]
     },
     "execution_count": 10,
     "metadata": {},
     "output_type": "execute_result"
    }
   ],
   "source": [
    "check_brackets('{[}')"
   ]
  },
  {
   "cell_type": "code",
   "execution_count": 11,
   "metadata": {},
   "outputs": [
    {
     "data": {
      "text/plain": [
       "'Success'"
      ]
     },
     "execution_count": 11,
     "metadata": {},
     "output_type": "execute_result"
    }
   ],
   "source": [
    "check_brackets('foo(bar);')"
   ]
  },
  {
   "cell_type": "code",
   "execution_count": 12,
   "metadata": {},
   "outputs": [
    {
     "data": {
      "text/plain": [
       "10"
      ]
     },
     "execution_count": 12,
     "metadata": {},
     "output_type": "execute_result"
    }
   ],
   "source": [
    "check_brackets('foo(bar[i);')"
   ]
  },
  {
   "cell_type": "code",
   "execution_count": 13,
   "metadata": {},
   "outputs": [
    {
     "data": {
      "text/plain": [
       "'Success'"
      ]
     },
     "execution_count": 13,
     "metadata": {},
     "output_type": "execute_result"
    }
   ],
   "source": [
    "check_brackets('([](){([])})')"
   ]
  },
  {
   "cell_type": "code",
   "execution_count": 14,
   "metadata": {},
   "outputs": [
    {
     "data": {
      "text/plain": [
       "5"
      ]
     },
     "execution_count": 14,
     "metadata": {},
     "output_type": "execute_result"
    }
   ],
   "source": [
    "check_brackets('()[]}')"
   ]
  },
  {
   "cell_type": "code",
   "execution_count": 15,
   "metadata": {},
   "outputs": [
    {
     "data": {
      "text/plain": [
       "7"
      ]
     },
     "execution_count": 15,
     "metadata": {},
     "output_type": "execute_result"
    }
   ],
   "source": [
    "check_brackets('{{[()]]')"
   ]
  },
  {
   "cell_type": "code",
   "execution_count": 16,
   "metadata": {},
   "outputs": [
    {
     "data": {
      "text/plain": [
       "'Success'"
      ]
     },
     "execution_count": 16,
     "metadata": {},
     "output_type": "execute_result"
    }
   ],
   "source": [
    "check_brackets('([](){([])})')"
   ]
  },
  {
   "cell_type": "code",
   "execution_count": 17,
   "metadata": {},
   "outputs": [
    {
     "data": {
      "text/plain": [
       "3"
      ]
     },
     "execution_count": 17,
     "metadata": {},
     "output_type": "execute_result"
    }
   ],
   "source": [
    "check_brackets('[]([]')"
   ]
  }
 ],
 "metadata": {
  "kernelspec": {
   "display_name": "Python 3",
   "language": "python",
   "name": "python3"
  },
  "language_info": {
   "codemirror_mode": {
    "name": "ipython",
    "version": 3
   },
   "file_extension": ".py",
   "mimetype": "text/x-python",
   "name": "python",
   "nbconvert_exporter": "python",
   "pygments_lexer": "ipython3",
   "version": "3.7.4"
  }
 },
 "nbformat": 4,
 "nbformat_minor": 2
}

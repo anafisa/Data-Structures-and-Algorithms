{
 "cells": [
  {
   "cell_type": "markdown",
   "metadata": {},
   "source": [
    "## Высота дерева"
   ]
  },
  {
   "cell_type": "markdown",
   "metadata": {},
   "source": [
    "Вычислить высоту данного дерева.\n",
    "\n",
    "__Вход.__ Корневое дерево с вершинами {0, . . . , n−1}, заданное как последовательность parent ,...,parent ,где parent — родитель i-й вершины. \n",
    "\n",
    "__Выход.__ Высота дерева."
   ]
  },
  {
   "cell_type": "markdown",
   "metadata": {},
   "source": [
    "\n",
    "Деревья имеют огромное количество применений в Computer Science. Они используются как для представления данных, так и во многих алгоритмах машинного обучения. Далее мы также узнаем, как сбалансированные деревья используются для реализации словарей и ассоциативных массивов. Данные структуры данных так или иначе используются во всех языках программирования и базах данных.\n",
    "\n",
    "Ваша цель в данной задаче — научиться хранить и эффективно обрабатывать деревья, даже если в них сотни тысяч вершин.\n",
    "\n",
    "__Формата входа.__ Первая строка содержит натуральное число n.\n",
    "Вторая строка содержит n целых неотрицательных чисел\n",
    "parent ,...,parent . Для каждого 0 ≤ i ≤ n − 1, parent — 0n−1 i\n",
    "родитель вершины i; если parenti = −1, то i является корнем. Гарантируется, что корень ровно один. Гарантируется, что данная последовательность задаёт дерево.\n",
    "\n",
    "__Формат выхода.__ Высота дерева."
   ]
  },
  {
   "cell_type": "code",
   "execution_count": 1,
   "metadata": {},
   "outputs": [
    {
     "name": "stdout",
     "output_type": "stream",
     "text": [
      "4\n"
     ]
    }
   ],
   "source": [
    "# my solution (is not correct in some cases)\n",
    "def find_height(parents_list, node):\n",
    "    parent = parents_list[node]\n",
    "    if parent == -1: # если добрались до корня, то возвращаем 1 - барьер рекурсии\n",
    "        return 1\n",
    "    else:\n",
    "        h = 1 + find_height(parents_list, parent) # если не добрались до корня, то идем в следующую вершину \n",
    "    return h\n",
    "\n",
    "n = 4\n",
    "parents_list = [-1, 0, 4, 0, 3]\n",
    "result = 1\n",
    "for i in parents_list: # рассчитываем расстояния от каждой вершины до корня\n",
    "    h = find_height(parents_list, i) \n",
    "    result = max(result, h) # выбираем максимум среди всех рассмотренных расстояний\n",
    "print(result+1)  "
   ]
  },
  {
   "cell_type": "code",
   "execution_count": 2,
   "metadata": {},
   "outputs": [
    {
     "name": "stdout",
     "output_type": "stream",
     "text": [
      "4\n"
     ]
    }
   ],
   "source": [
    "# оптимальное решение  - не посещаем одну вершину несколько раз\n",
    "def countd(i):\n",
    "    if d[i] == - 1: # если элемент списка -1 (т.е мы его ещё не посещали)\n",
    "        d[i] = countd(s[i]) + 1 # то начинаем рекурсивно изскать путь до корня, на каждом шаге добавляя единицу\n",
    "    return d[i] # т.е мы уже посещали данный элемент и знаем расстояние до корня\n",
    "\n",
    "n = 4\n",
    "s = [-1, 0, 4, 0, 3]\n",
    "d = [-1] * (len(s)) + [0] # заготавливаем список вида все -1 кроме последнего элемента (корня), он 0\n",
    "for i in range(len(s)):  # от каждой вершины рассчитываем расстояние от неё до корня\n",
    "    countd(i) \n",
    "print(max(d)) # выбираем максимальное расстояние от вершины до корня"
   ]
  },
  {
   "cell_type": "code",
   "execution_count": 3,
   "metadata": {},
   "outputs": [
    {
     "name": "stdout",
     "output_type": "stream",
     "text": [
      "4\n"
     ]
    }
   ],
   "source": [
    "def tree_height_bottom_up(parents):\n",
    "    depth = [-1] * len(parents) + [0]\n",
    "    def count_depth(i):\n",
    "        if depth[i] == -1:\n",
    "            depth[i] = count_depth(parents[i]) + 1\n",
    "        return depth[i]\n",
    "    return max(count_depth(i) for i in range(len(parents)))\n",
    "\n",
    "\n",
    "n = 4\n",
    "parents = [-1, 0, 4, 0, 3]\n",
    "print(tree_height_bottom_up(parents))"
   ]
  }
 ],
 "metadata": {
  "kernelspec": {
   "display_name": "Python 3",
   "language": "python",
   "name": "python3"
  },
  "language_info": {
   "codemirror_mode": {
    "name": "ipython",
    "version": 3
   },
   "file_extension": ".py",
   "mimetype": "text/x-python",
   "name": "python",
   "nbconvert_exporter": "python",
   "pygments_lexer": "ipython3",
   "version": "3.7.4"
  }
 },
 "nbformat": 4,
 "nbformat_minor": 2
}

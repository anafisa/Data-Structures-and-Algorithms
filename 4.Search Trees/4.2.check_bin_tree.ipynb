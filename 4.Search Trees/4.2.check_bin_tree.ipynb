{
 "cells": [
  {
   "cell_type": "markdown",
   "metadata": {},
   "source": [
    "## Проверка свойства дерева поиска"
   ]
  },
  {
   "cell_type": "markdown",
   "metadata": {},
   "source": [
    "Проверить, является ли данное двоичное дерево деревом поиска.\n",
    "\n",
    "Вы тестируете реализацию двоичного дерева поиска. У вас уже написан код, который ищет, добавляет и удаляет ключи, а также выводит внутреннее состояние структуры данных после каждой операции. Вам осталось проверить, что в каждый момент дерево остаётся корректным деревом поиска. Другими словами, вы хотите проверить, что для дерева корректно работает поиск, если ключ есть в дереве, то процедура поиска его обязательно найдёт, если ключа нет — то не найдёт.\n",
    "\n",
    "__Формат входа.__ Первая строка содержит число вершин n. Вершины дерева пронумерованы числами от 0 до n−1. Вершина 0 является корнем. Каждая из следующих n строк содержит информацию о вершинах 0, 1, . . . , n − 1: i-я строка задаёт числа keyi, lefti и righti, где key — ключ вершины i, lefti — индекс левого сына вершины i, а right — индекс правого сына вершины i. Если у вершины i нет одного или обоих сыновей, соответствующее значение равно −1.\n",
    "\n",
    "__Формат выхода.__ Выведите «CORRECT», если дерево является кор- ректным деревом поиска, и «INCORRECT» в противном случае.\n"
   ]
  },
  {
   "cell_type": "markdown",
   "metadata": {},
   "source": [
    "При решении можно взять за основу метод обхода in-order ﻿из предыдущей задачи и при этом ﻿учитывать, что для бинарных деревьев поиска симметричный обход (in-order) проходит все узлы в _отсортированном_ порядке (https://habr.com/post/267855/). Т.е. ﻿вместо вывода элемента на экран нужно проверять, что ﻿предыдущий элемент (запоминаем в переменной) ﻿меньше текущего."
   ]
  },
  {
   "cell_type": "code",
   "execution_count": 1,
   "metadata": {},
   "outputs": [],
   "source": [
    "def in_order(n):\n",
    "    if tree[n][1] >= 0: # если левая вершина не лист\n",
    "        in_order(tree[n][1]) # спускаемся в левое поддерево\n",
    "    vert.append(tree[n][0]) # добавляем посещенную вершину-родителя\n",
    "    if tree[n][2] >= 0: # если правая вершина не лист\n",
    "        in_order(tree[n][2]) # спускаемся в правое поддерево\n",
    "    return vert"
   ]
  },
  {
   "cell_type": "code",
   "execution_count": 2,
   "metadata": {},
   "outputs": [
    {
     "name": "stdout",
     "output_type": "stream",
     "text": [
      "3\n",
      "2 1 2\n",
      "1 -1 -1\n",
      "3 -1 -1\n"
     ]
    }
   ],
   "source": [
    "tree = []\n",
    "n = int(input())\n",
    "for i in range(n):\n",
    "    tree.append([int(s) for s in input().split()])\n"
   ]
  },
  {
   "cell_type": "code",
   "execution_count": 3,
   "metadata": {},
   "outputs": [
    {
     "name": "stdout",
     "output_type": "stream",
     "text": [
      "CORRECT\n"
     ]
    }
   ],
   "source": [
    "vert = []\n",
    "res = in_order(0)\n",
    "if res == sorted(res):\n",
    "    print('CORRECT')\n",
    "else:\n",
    "    print('INCORRECT')\n",
    "    "
   ]
  },
  {
   "cell_type": "code",
   "execution_count": 5,
   "metadata": {},
   "outputs": [
    {
     "name": "stdout",
     "output_type": "stream",
     "text": [
      "3\n",
      "2 1 2\n",
      "1 -1 -1\n",
      "3 -1 -1\n",
      "CORRECT\n"
     ]
    }
   ],
   "source": [
    "def order(i, prev=-2**32):   \n",
    "    stack = []\n",
    "    while a and i>-1 or stack:\n",
    "        if i>-1: # если вершина не является листом\n",
    "            stack.append(i) # помечаем посещенную вершину\n",
    "            i = a[i][1] # спускаемся в левое поддерево\n",
    "        else: # если вершина лист\n",
    "            i = stack.pop() # рассматриваем родителя листа\n",
    "            if prev > a[i][0]: return 'INCORRECT' # если не выполняется неравенство бинарного дерева\n",
    "            prev = a[i][0] \n",
    "            i = a[i][2] # переходим к правому поддереву\n",
    "    return 'CORRECT'\n",
    "n = int(input())\n",
    "a = [tuple(map(int, input().split())) for _ in range(n)]  \n",
    "print(order(0))"
   ]
  }
 ],
 "metadata": {
  "kernelspec": {
   "display_name": "Python 3",
   "language": "python",
   "name": "python3"
  },
  "language_info": {
   "codemirror_mode": {
    "name": "ipython",
    "version": 3
   },
   "file_extension": ".py",
   "mimetype": "text/x-python",
   "name": "python",
   "nbconvert_exporter": "python",
   "pygments_lexer": "ipython3",
   "version": "3.7.4"
  }
 },
 "nbformat": 4,
 "nbformat_minor": 2
}

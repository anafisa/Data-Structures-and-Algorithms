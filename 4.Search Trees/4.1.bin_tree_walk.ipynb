{
 "cells": [
  {
   "cell_type": "markdown",
   "metadata": {},
   "source": [
    " ## Обход двоичного дерева"
   ]
  },
  {
   "cell_type": "markdown",
   "metadata": {},
   "source": [
    "Обход двоичного дерева\n",
    "Построить in-order, pre-order и post-order обходы данного двоичного дерева."
   ]
  },
  {
   "cell_type": "markdown",
   "metadata": {},
   "source": [
    "__In-order обход__: произвести рекурсивный вызов для v.left, напечатать v.key, произвести рекурсивный вызов для v.right. \n",
    "\n",
    "__Pre-order обход__: напечатать v.key, произвести рекурсивный вызов для v.left, произвести рекурсивный вызов для v.right. \n",
    "\n",
    "__Post-order обход__: произвести рекурсивный вызов для v.left, произвести рекурсивный вызов для v.right, напечатать v.key.\n",
    "\n",
    "__Формат входа.__ Первая строка содержит число вершин n. Вершины дерева пронумерованы числами от 0 до n−1. Вершина 0 является корнем. Каждая из следующих n строк содержит информацию о вершинах 0, 1, . . . , n − 1: i-я строка задаёт числа keyi, lefti и righti, где key — ключ вершины i, lefti — индекс левого сына вершины i, а right — индекс правого сына вершины i. Если у вершины i нет одного или обоих сыновей, соответствующее значение равно −1.\n",
    "\n",
    "__Формат выхода.__ Три строки:in-order,pre-order и post-order обходы."
   ]
  },
  {
   "cell_type": "code",
   "execution_count": 1,
   "metadata": {},
   "outputs": [
    {
     "name": "stdout",
     "output_type": "stream",
     "text": [
      "5\n",
      "4 1 2\n",
      "2 3 4\n",
      "5 -1 -1\n",
      "1 -1 -1\n",
      "3 -1 -1\n",
      "1 2 3 4 5 \n",
      "4 2 1 3 5 \n",
      "1 3 2 5 4 "
     ]
    }
   ],
   "source": [
    "def in_order(n):\n",
    "    if tree[n][1] >= 0: # если левая вершина не лист\n",
    "        in_order(tree[n][1]) # спускаемся в левое поддерево\n",
    "    print(tree[n][0], end = ' ') # добавляем посещенную вершину-родителя\n",
    "    if tree[n][2] >= 0: # если правая вершина не лист\n",
    "        in_order(tree[n][2]) # спускаемся в правое поддерево\n",
    "def pre_order(n):\n",
    "    print(tree[n][0], end = ' ') # добавляем посещенную вершину-родителя\n",
    "    if tree[n][1] >= 0: # если левая вершина не лист\n",
    "        pre_order(tree[n][1]) # спускаемся в левое поддерево\n",
    "    if tree[n][2] >= 0: # если правая вершина не лист\n",
    "        pre_order(tree[n][2]) # спускаемся в правое поддерево\n",
    "def post_order(n):\n",
    "    if tree[n][1] >= 0: # если левая вершина не лист\n",
    "        post_order(tree[n][1]) # спускаемся в левое поддерево \n",
    "    if tree[n][2] >= 0: # если правая вершина не лист\n",
    "        post_order(tree[n][2]) # спускаемся в правое поддерево\n",
    "    print(tree[n][0], end = ' ') # добавляем посещенную вершину-родителя\n",
    "\n",
    "tree = []\n",
    "n = int(input())\n",
    "for i in range(n):\n",
    "    tree.append([int(s) for s in input().split()])\n",
    "    \n",
    "in_order(0)\n",
    "print()\n",
    "pre_order(0)\n",
    "print()\n",
    "post_order(0)"
   ]
  },
  {
   "cell_type": "code",
   "execution_count": 2,
   "metadata": {},
   "outputs": [],
   "source": [
    "n_vert = 5\n",
    "bin_tree = [[4,1,2], [2,3,4], [5,-1,-1], [1,-1,-1], [3,-1,-1]]"
   ]
  }
 ],
 "metadata": {
  "kernelspec": {
   "display_name": "Python 3",
   "language": "python",
   "name": "python3"
  },
  "language_info": {
   "codemirror_mode": {
    "name": "ipython",
    "version": 3
   },
   "file_extension": ".py",
   "mimetype": "text/x-python",
   "name": "python",
   "nbconvert_exporter": "python",
   "pygments_lexer": "ipython3",
   "version": "3.7.4"
  }
 },
 "nbformat": 4,
 "nbformat_minor": 2
}

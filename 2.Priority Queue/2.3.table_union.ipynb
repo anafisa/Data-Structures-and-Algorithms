{
 "cells": [
  {
   "cell_type": "markdown",
   "metadata": {},
   "source": [
    "## Объединение таблиц"
   ]
  },
  {
   "cell_type": "markdown",
   "metadata": {},
   "source": [
    "Ваша цель в данной задаче — реализовать симуляцию объединения таблиц в базе данных.\n",
    "\n",
    "В базе данных есть n таблиц, пронумерованных от 1 до n, над одним и тем же множеством столбцов (атрибутов). Каждая таблица содержит либо реальные записи в таблице, либо символьную ссылку на другую таблицу. Изначально все таблицы содержат реальные записи, и i-я таблица содержит ri записей. Ваша цель — обработать m запросов типа (destinationi, source)\n",
    "\n",
    "__Формат входа.__ Первая строка содержит числа n и m — число таблиц и число запросов, соответственно. Вторая строка содержит n целых чисел r1, . . . , rn — размеры таблиц. Каждая из последующих m строк содержит два номера таблиц destinationi и sourcei, которые необходимо объединить.\n",
    "\n",
    "__Формат выхода.__ Для каждого из m запросов выведите максимальный размер таблицы после соответствующего объединения.\n"
   ]
  },
  {
   "cell_type": "code",
   "execution_count": 1,
   "metadata": {},
   "outputs": [
    {
     "name": "stdout",
     "output_type": "stream",
     "text": [
      "5 5\n",
      "1 1 1 1 1\n",
      "3 5\n",
      "2\n",
      "2 4\n",
      "2\n",
      "1 4\n",
      "3\n",
      "5 4\n",
      "5\n",
      "5 3\n",
      "5\n"
     ]
    }
   ],
   "source": [
    "def find_rec(i) : # поиск корневой вершины\n",
    "    if i != par[i]:\n",
    "        par[i] = find_rec(par[i])\n",
    "    return par[i]\n",
    "\n",
    "def unity(dest, source): # процедура объединения\n",
    "    global cmax\n",
    "    p_d = find_rec(dest) # поиск корней объединяемых вершин\n",
    "    p_s = find_rec(source)\n",
    "    if p_d != p_s:\n",
    "        par[p_s] = par[p_d] # родителем корня source вершины становится корень вершины destination\n",
    "        r[p_d] += r[p_s] # меняем ранг(высоту) дерева с корнем destination \n",
    "    if r[p_d] > cmax: # обновляем глобальный максимум задачи, если это требуется\n",
    "        cmax = r[p_d]\n",
    "    return cmax\n",
    "\n",
    "n, m = map(int, input().split())\n",
    "r = [int(i) for i in input().split()]\n",
    "par = [i for i in range(n)]\n",
    "cmax = max(r)\n",
    "\n",
    "for i in range(m):\n",
    "    d, s = map (int, input().split())\n",
    "    print(unity(d-1,s-1)) # объединяем вершины"
   ]
  }
 ],
 "metadata": {
  "kernelspec": {
   "display_name": "Python 3",
   "language": "python",
   "name": "python3"
  },
  "language_info": {
   "codemirror_mode": {
    "name": "ipython",
    "version": 3
   },
   "file_extension": ".py",
   "mimetype": "text/x-python",
   "name": "python",
   "nbconvert_exporter": "python",
   "pygments_lexer": "ipython3",
   "version": "3.7.4"
  }
 },
 "nbformat": 4,
 "nbformat_minor": 2
}

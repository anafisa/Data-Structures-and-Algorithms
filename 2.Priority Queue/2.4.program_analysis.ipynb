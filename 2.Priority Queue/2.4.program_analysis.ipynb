{
 "cells": [
  {
   "cell_type": "markdown",
   "metadata": {},
   "source": [
    "## Автоматический анализ программ"
   ]
  },
  {
   "cell_type": "markdown",
   "metadata": {},
   "source": [
    "Проверить, можно ли присвоить переменным целые значения, чтобы выполнить заданные равенства вида xi = xj и неравенства вида xp ̸= xq .\n",
    "\n",
    "__Формат входа.__ Первая строка содержит числа n, e, d. Каждая из сле- дующих e строк содержит два числа i и j и задаёт равенство xi = xj . Каждая из следующих d строк содержит два числа i и j и задаёт неравенство xi ̸= xj. Переменные индексируются с 1: x1,...,xn.\n",
    "\n",
    "__Формат выхода.__ Выведите 1, если переменным x1, . . . , xn можно присвоить целые значения, чтобы все равенства и неравенства выполнились. В противном случае выведите 0."
   ]
  },
  {
   "cell_type": "code",
   "execution_count": 1,
   "metadata": {},
   "outputs": [
    {
     "name": "stdout",
     "output_type": "stream",
     "text": [
      "6 5 3 \n",
      "2 3\n",
      "1 5\n",
      "2 5\n",
      "3 4\n",
      "4 2\n",
      "6 1\n",
      "4 6\n",
      "4 5\n",
      "0\n"
     ]
    }
   ],
   "source": [
    "def find_parent(i) : # поиск корневой вершины\n",
    "    if i != parent_list[i]:\n",
    "        parent_list[i] = find_parent(parent_list[i])\n",
    "    return parent_list[i]\n",
    "\n",
    "def unity(dest, source): # процедура объединения\n",
    "    p_d = find_parent(dest) # поиск корней объединяемых вершин\n",
    "    p_s = find_parent(source)\n",
    "    if p_d != p_s:\n",
    "        parent_list[p_s] = parent_list[p_d] # родителем корня source вершины становится корень вершины destination\n",
    "    return parent_list\n",
    "\n",
    "n, e, d = list(map(int, input().split()))\n",
    "parent_list = list(range(n))\n",
    "c = 0\n",
    "for i in range(e):\n",
    "    x1, x2 = list(map(int, input().split()))\n",
    "    parent_list = unity(x1-1, x2-1)\n",
    "for j in range(d):\n",
    "    x1, x2 = list(map(int, input().split()))\n",
    "    p1, p2 = find_parent(x1-1), find_parent(x2-1)\n",
    "    if p1 == p2:\n",
    "        c += 1\n",
    "if c== 0:\n",
    "    print(1)\n",
    "else:\n",
    "    print(0)\n",
    "    "
   ]
  }
 ],
 "metadata": {
  "kernelspec": {
   "display_name": "Python 3",
   "language": "python",
   "name": "python3"
  },
  "language_info": {
   "codemirror_mode": {
    "name": "ipython",
    "version": 3
   },
   "file_extension": ".py",
   "mimetype": "text/x-python",
   "name": "python",
   "nbconvert_exporter": "python",
   "pygments_lexer": "ipython3",
   "version": "3.7.4"
  }
 },
 "nbformat": 4,
 "nbformat_minor": 2
}

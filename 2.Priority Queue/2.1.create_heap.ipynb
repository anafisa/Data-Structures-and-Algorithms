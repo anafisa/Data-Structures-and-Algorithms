{
 "cells": [
  {
   "cell_type": "markdown",
   "metadata": {},
   "source": [
    "## Построение кучи"
   ]
  },
  {
   "cell_type": "markdown",
   "metadata": {},
   "source": [
    "Переставить элементы заданного массива чисел так, чтобы он удовлетворял свойству мин кучи.\n",
    "\n",
    "__Вход.__ Массив чисел A[0 . . . n − 1].\n",
    "\n",
    "__Выход.__ Переставить элементы массива так, чтобы выполнялись неравенства A[i] ≤ A[2i + 1] и A[i] ≤ A[2i + 2] для всех i.\n",
    "\n"
   ]
  },
  {
   "cell_type": "markdown",
   "metadata": {},
   "source": [
    "Построение кучи — ключевой шаг алгоритма сортировки кучей. Данный алгоритм имеет время работы O(nlog(n)) в худшем случае в отличие от алгоритма быстрой сортировки, который гарантирует такую оценку в среднем случае. Алгоритм быстрой сортировки чаще используют на практике, поскольку в большинстве случаев он работает быстрее, но алгоритм сортировки кучей используется для внешней сортировки данных, когда необходимо отсортировать данные огромного размера, не помещающиеся в память компьютера.\n",
    "\n",
    "Чтобы превратить данный массив в кучу, необходимо произвести несколько обменов его элементов. Обменом мы называем базовую операцию, которая меняет местами элементы A[i] и A[j]. Ваша цель в данной задаче — преобразовать заданный массив в кучу за линейное количество обменов.\n",
    "\n",
    "__Формат входа.__ Первая строка содержит число n. Следующая строка задаёт массив чисел A[0], . . . , A[n − 1].\n",
    "\n",
    "__Формат выхода.__ Первая строка выхода должна содержать число об- менов m, которое должно удовлетворять неравенству 0 ≤ m ≤ 4n. Каждая из последующих m строк должна задавать обмен двух элементов массива A. Каждый обмен задаётся парой различных индексов 0 ≤ i ̸= j ≤ n − 1. После применения всех обменов в указанном порядке массив должен превратиться в мин-кучу, то есть для всех 0 ≤ i ≤ n − 1 должны выполняться следующие два условия:\n",
    "• если2i+1≤n−1,тоA[i]<A[2i+1]. • если2i+2≤n−1,тоA[i]<A[2i+2].\n"
   ]
  },
  {
   "cell_type": "code",
   "execution_count": 1,
   "metadata": {},
   "outputs": [],
   "source": [
    "def sift_down(i, heap):\n",
    "    max_id = i\n",
    "    l = 2*i+1 # рассматриваем левого ребенка вершины\n",
    "    # если левый ребенок существует и если значение ребенка меньше значения родителя (а в мин куче такого быть не должно)\n",
    "    if l < len(heap) and heap[l] < heap[max_id]:\n",
    "        max_id = l # тогда запонимаем id левого ребенка\n",
    "    r = 2*i+2 # рассматриваем правого ребенка вершины\n",
    "    # если правый ребенок существует и если значение ребенка меньше значения родителя (а в мин куче такого быть не должно)\n",
    "    if r < len(heap) and heap[r] < heap[max_id]:\n",
    "        max_id = r # тогда запонимаем id правого ребенка, он приорететнее на обмен, чем левый\n",
    "    if i != max_id: # если в ходе проверок max_id изменился\n",
    "        # то элементы кучи необходимо поменять местами\n",
    "        heap[i], heap[max_id] = heap[max_id], heap[i]\n",
    "        changes.append((i, max_id))\n",
    "        # после того, как элементы были поменяны местами необходимо перестроить нижнее поддерево \n",
    "        # и проверить, выполняются ли для него необходимые неравенства\n",
    "        # для этого сново вызываем sift down из новой вершины\n",
    "        sift_down(max_id, heap)\n",
    "    return heap\n",
    "\n",
    "def build_heap(lst):\n",
    "    heap = lst\n",
    "    for i in range(len(lst)//2 -1 , -1, -1): # проходим по каждой вершине-родителю\n",
    "        heap = sift_down(i, heap)"
   ]
  },
  {
   "cell_type": "code",
   "execution_count": 2,
   "metadata": {},
   "outputs": [
    {
     "name": "stdout",
     "output_type": "stream",
     "text": [
      "4\n",
      "2 5\n",
      "1 4\n",
      "0 2\n",
      "2 5\n"
     ]
    }
   ],
   "source": [
    "# lst = [5, 4, 3, 2, 1]\n",
    "# lst = [0, 1, 2, 3, 4, 5]\n",
    "changes = []\n",
    "lst = [7, 6, 5, 4, 3, 2]\n",
    "build_heap(lst)\n",
    "print(len(changes))\n",
    "for i in changes:\n",
    "    print(*i)"
   ]
  },
  {
   "cell_type": "code",
   "execution_count": 3,
   "metadata": {},
   "outputs": [
    {
     "name": "stdout",
     "output_type": "stream",
     "text": [
      "4\n",
      "2 5\n",
      "1 4\n",
      "0 2\n",
      "2 5\n"
     ]
    }
   ],
   "source": [
    "n = 6\n",
    "A = [7, 6, 5, 4, 3, 2]\n",
    "S = []\n",
    "\n",
    "def sift_down(i):\n",
    "    max_index = i\n",
    "    left = 2 * i + 1\n",
    "    if left < n and A[left] < A[max_index]:\n",
    "        max_index = left\n",
    "    right = 2 * i + 2\n",
    "    if right < n and A[right] < A[max_index]:\n",
    "        max_index = right\n",
    "    if i != max_index:\n",
    "        A[i], A[max_index] = A[max_index], A[i]\n",
    "        S.append((i, max_index))\n",
    "        sift_down(max_index)\n",
    "\n",
    "for k in range((n - 1) // 2, -1, -1):\n",
    "    sift_down(k)\n",
    "\n",
    "print(len(S))\n",
    "for x in S:\n",
    "    print(*x)"
   ]
  },
  {
   "cell_type": "code",
   "execution_count": 4,
   "metadata": {},
   "outputs": [
    {
     "name": "stdout",
     "output_type": "stream",
     "text": [
      "4\n",
      "2 5\n",
      "1 4\n",
      "0 2\n",
      "2 5\n"
     ]
    }
   ],
   "source": [
    "# Решение по лекции -- реализация SiftDown, но без рекурсии.\n",
    "size, H = 6, [7, 6, 5, 4, 3, 2]\n",
    "steps = []\n",
    "for i in range(size // 2, -1, -1):\n",
    "    while i < size:\n",
    "        m, left, right = i, 2 * i + 1, 2 * i + 2\n",
    "        if left < size and H[left] < H[m]: m = left\n",
    "        if right < size and H[right] < H[m]: m = right\n",
    "        if m == i: break\n",
    "        steps += [[i, m]]\n",
    "        H[i], H[m], i = H[m], H[i], m\n",
    "print(len(steps))\n",
    "for step in steps: print(*step)"
   ]
  }
 ],
 "metadata": {
  "kernelspec": {
   "display_name": "Python 3",
   "language": "python",
   "name": "python3"
  },
  "language_info": {
   "codemirror_mode": {
    "name": "ipython",
    "version": 3
   },
   "file_extension": ".py",
   "mimetype": "text/x-python",
   "name": "python",
   "nbconvert_exporter": "python",
   "pygments_lexer": "ipython3",
   "version": "3.7.4"
  }
 },
 "nbformat": 4,
 "nbformat_minor": 2
}

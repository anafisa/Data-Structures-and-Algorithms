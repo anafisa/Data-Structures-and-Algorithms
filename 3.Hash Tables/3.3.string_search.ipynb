{
 "cells": [
  {
   "cell_type": "markdown",
   "metadata": {},
   "source": [
    "## Поиск образца в тексте"
   ]
  },
  {
   "cell_type": "markdown",
   "metadata": {},
   "source": [
    "Найти все вхождения строки Pattern в строку Text.Реализуйте алгоритм Карпа–Рабина.\n",
    "\n",
    "__Вход.__ Строки Pattern и Text.\n",
    "\n",
    "__Выход.__ Все индексы i строки Text, начиная с которых стро- ка Pattern входит в Text:\n",
    "Text[i..i + |Pattern| − 1] = Pattern."
   ]
  },
  {
   "cell_type": "code",
   "execution_count": 1,
   "metadata": {},
   "outputs": [
    {
     "name": "stdout",
     "output_type": "stream",
     "text": [
      "aba\n",
      "abacaba\n",
      "0\n",
      "4\n"
     ]
    }
   ],
   "source": [
    "# Для прохождения тестов достаточно было крайне примитивной rolling-функции хэширования.\n",
    "# В данном случае - это просто сумма всех элементов в подстроке\n",
    "pattern, text = input(), input()\n",
    "P = len(pattern)\n",
    "needed, current = sum(ord(c) for c in pattern), sum(ord(c) for c in text[:P]) # хеш искомой подстроки, хеш проверяемой подстроки\n",
    "for i in range(len(text) - P + 1): # рассматриваем все подстроки длины P\n",
    "    if needed == current and pattern == text[i:i + P]: # проверяем посимвольное равенство\n",
    "            print(i, sep=' ')\n",
    "    # Взятие по модулю здесь излишне для всех случаев, просто хотелось забить на последний элемент\n",
    "    current += ord(text[(i + P) % len(text)]) - ord(text[i])"
   ]
  },
  {
   "cell_type": "code",
   "execution_count": 2,
   "metadata": {},
   "outputs": [
    {
     "name": "stdout",
     "output_type": "stream",
     "text": [
      "aba\n",
      "abacaba\n",
      "0 4 "
     ]
    }
   ],
   "source": [
    "def hash(string):\n",
    "    hash = 0\n",
    "    for i in range(len(string)):\n",
    "        hash += ord(string[i])*pow(1, i, p) # (1**i)%p\n",
    "    return hash%p\n",
    "\n",
    "\n",
    "pattern = input()\n",
    "text = input()\n",
    "p = 10**9\n",
    "m = len(text)\n",
    "l = len(pattern)\n",
    "hash_pattern = hash(pattern)\n",
    "data = hash(text[:l])\n",
    "for i in range(m-l+1):\n",
    "    if data == hash_pattern and pattern == text[i:l+i]:\n",
    "        print(i, end=' ')\n",
    "    if i < m-l:\n",
    "        data = ((data - hash(text[i]))%p + p)%p + hash(text[l+i])"
   ]
  }
 ],
 "metadata": {
  "kernelspec": {
   "display_name": "Python 3",
   "language": "python",
   "name": "python3"
  },
  "language_info": {
   "codemirror_mode": {
    "name": "ipython",
    "version": 3
   },
   "file_extension": ".py",
   "mimetype": "text/x-python",
   "name": "python",
   "nbconvert_exporter": "python",
   "pygments_lexer": "ipython3",
   "version": "3.7.4"
  }
 },
 "nbformat": 4,
 "nbformat_minor": 2
}

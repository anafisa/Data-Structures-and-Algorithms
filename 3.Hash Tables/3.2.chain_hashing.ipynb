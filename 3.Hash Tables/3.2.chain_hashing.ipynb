{
 "cells": [
  {
   "cell_type": "markdown",
   "metadata": {},
   "source": [
    "## Хеширование цепочками"
   ]
  },
  {
   "cell_type": "markdown",
   "metadata": {},
   "source": [
    "Хеширование цепочками — один из наиболее популярных методов реализации хеш-таблиц на практике. Ваша цель в данной задаче — реализовать такую схему, используя таблицу с m ячейками и полиномиальной хеш-функцией на строках.\n",
    "\n",
    "* add string: добавить строку string в таблицу. Если такая строка уже есть, проигнорировать запрос;\n",
    "* del string: удалить строку string из таблицы. Если такой строки нет, проигнорировать запрос;\n",
    "* find string: вывести «yes» или «no» в зависимости от того, есть в таблице строка string или нет;\n",
    "* check i: вывести i-й список (используя пробел в качестве разделителя); если i-й список пуст, вывести пустую строку.\n",
    "\n",
    "При добавлении строки в цепочку, строка должна добавляться в начало цепочки.\n",
    "\n",
    "__Формат входа.__ Первая строка размер хеш-таблицы m. Следующая строка содержит количество запросов n. Каждая из последую- щих n строк содержит запрос одного из перечисленных выше четырёх типов.\n",
    "\n",
    "__Формат выхода.__ Для каждого из запросов типа find и check выведите результат в отдельной строке."
   ]
  },
  {
   "cell_type": "code",
   "execution_count": 1,
   "metadata": {},
   "outputs": [
    {
     "name": "stdout",
     "output_type": "stream",
     "text": [
      "5\n",
      "12\n",
      "add world\n",
      "[None, None, None, None, ['world']]\n",
      "add HellO\n",
      "[None, None, None, None, ['world', 'HellO']]\n",
      "check 4\n",
      "HellO world\n",
      "[None, None, None, None, ['world', 'HellO']]\n",
      "find World\n",
      "no\n",
      "[None, None, None, None, ['world', 'HellO']]\n",
      "find world\n",
      "yes\n",
      "[None, None, None, None, ['world', 'HellO']]\n",
      "del world\n",
      "[None, None, None, None, ['HellO']]\n",
      "check 4\n",
      "HellO\n",
      "[None, None, None, None, ['HellO']]\n",
      "del HellO\n",
      "[None, None, None, None, []]\n",
      "add luck\n",
      "[None, None, ['luck'], None, []]\n",
      "add GooD\n",
      "[None, None, ['luck', 'GooD'], None, []]\n",
      "check 2\n",
      "GooD luck\n",
      "[None, None, ['luck', 'GooD'], None, []]\n",
      "del good\n",
      "[None, None, ['luck', 'GooD'], None, []]\n"
     ]
    }
   ],
   "source": [
    "class HashChainTable:\n",
    "    def __init__(self, size):\n",
    "        self._table = [None] * size \n",
    "        self._size = size # размер хеш-таблицы\n",
    "        self._p = 1000000007 # параметр функции хеширования\n",
    "        self._x = 263 # параметр функции хеширования\n",
    "    \n",
    "    def _get_hash(self, item): # получение значения полиномиальной хеш-функции\n",
    "        total = 0\n",
    "        x_mult = 1\n",
    "        for char in item:\n",
    "            total += ord(char) * x_mult\n",
    "            x_mult *= self._x\n",
    "        return (total % self._p) % self._size\n",
    "    \n",
    "    def add(self, value): # добавление элемента в хеш-таблицу\n",
    "        value_hash = self._get_hash(value)\n",
    "        if not self._find(value, value_hash):\n",
    "            if self._table[value_hash]:\n",
    "                self._table[value_hash].append(value)\n",
    "            else:\n",
    "                self._table[value_hash] = [value]\n",
    "    \n",
    "    def remove(self, value):\n",
    "        value_hash = self._get_hash(value)\n",
    "        if self._find(value, value_hash):\n",
    "            self._table[value_hash].remove(value)\n",
    "    \n",
    "    def _find(self, value, value_hash): \n",
    "        # хеш - это индекс элемнта в хеш-таблице\n",
    "        return self._table[value_hash] and value in self._table[value_hash]\n",
    "    \n",
    "    def ffind(self, value): # поиск элемента по хешу в хеш таблице\n",
    "        str_hash = self._get_hash(value)\n",
    "        print('yes' if self._find(value, str_hash) else 'no')\n",
    "    \n",
    "    def check(self, value): # вывести i-й список \n",
    "        lst = self._table[int(value)]\n",
    "        print(' '.join(reversed(lst)) if lst else '')\n",
    "\n",
    "\n",
    "def main():\n",
    "    table = HashChainTable(int(input()))\n",
    "    funcs = {'add': table.add, 'del': table.remove, 'find': table.ffind, 'check': table.check}\n",
    "    for _ in range(int(input())):\n",
    "        cmd, value = input().split()\n",
    "        funcs[cmd](value)\n",
    "        print(table._table)\n",
    "\n",
    "\n",
    "if __name__ == \"__main__\":\n",
    "    main()"
   ]
  }
 ],
 "metadata": {
  "kernelspec": {
   "display_name": "Python 3",
   "language": "python",
   "name": "python3"
  },
  "language_info": {
   "codemirror_mode": {
    "name": "ipython",
    "version": 3
   },
   "file_extension": ".py",
   "mimetype": "text/x-python",
   "name": "python",
   "nbconvert_exporter": "python",
   "pygments_lexer": "ipython3",
   "version": "3.7.4"
  }
 },
 "nbformat": 4,
 "nbformat_minor": 2
}

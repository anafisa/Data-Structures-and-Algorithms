{
 "cells": [
  {
   "cell_type": "markdown",
   "metadata": {},
   "source": [
    "## Телефонная книга"
   ]
  },
  {
   "cell_type": "markdown",
   "metadata": {},
   "source": [
    "Реализовать структуру данных, эффективно обрабатывающую запросы вида add number name,del number и find number.\n",
    "\n",
    "__Вход.__ Последовательность запросов вида add number name, del number и find number, где number — телефонный номер, содержащий не более семи знаков, а name — короткая строка. \n",
    "\n",
    "__Выход.__ Для каждого запроса find number выведите соответствующее имя или сообщите, что такой записи нет."
   ]
  },
  {
   "cell_type": "markdown",
   "metadata": {},
   "source": [
    "Цель в данной задаче — реализовать простую телефонную книгу, поддерживающую три следующих типа запросов. С указанными ограничениями данная задача может быть решена с использованием таблицы с прямой адресацией.\n",
    "\n",
    "* add number name: добавить запись с именем name и телефон- ным номером number. Если запись с таким телефонным номе- ром уже есть, нужно заменить в ней имя на name.\n",
    "* del number: удалить запись с соответствующим телефонным номером. Если такой записи нет, ничего не делать.\n",
    "* find number: найти имя записи с телефонным номером number. Если запись с таким номером есть, вывести имя. В про- тивном случае вывести «not found» (без кавычек).\n",
    "\n",
    "__Формат входа.__ Перваястрокасодержитчислозапросовn.Каждаяиз следующих n строк задаёт запрос в одном из трёх описанных вы- ше форматов.\n",
    "\n",
    "__Формат выхода.__ Для каждого запроса find выведите в отдельной строке либо имя, либо «not found»."
   ]
  },
  {
   "cell_type": "code",
   "execution_count": 1,
   "metadata": {},
   "outputs": [
    {
     "name": "stdout",
     "output_type": "stream",
     "text": [
      "8\n",
      "find 3839442\n",
      "not found\n",
      "add 123456 me\n",
      "add 0 granny\n",
      "find 0\n",
      "granny\n",
      "find 123456\n",
      "me\n",
      "del 0\n",
      "del 0\n",
      "find 0\n",
      "not found\n"
     ]
    }
   ],
   "source": [
    "n = int(input())\n",
    "phone_book = dict()\n",
    "for i in range(n):\n",
    "    command = input().split()\n",
    "    if command[0] == 'add':\n",
    "        phone_book[command[1]] = command[2]\n",
    "    elif command[0] == 'del' and command[1] in phone_book:\n",
    "        phone_book.pop(command[1])\n",
    "    elif command[0] == 'find' and command[1] in phone_book:\n",
    "        print(phone_book[command[1]])\n",
    "    elif command[0] == 'find':\n",
    "        print('not found')"
   ]
  }
 ],
 "metadata": {
  "kernelspec": {
   "display_name": "Python 3",
   "language": "python",
   "name": "python3"
  },
  "language_info": {
   "codemirror_mode": {
    "name": "ipython",
    "version": 3
   },
   "file_extension": ".py",
   "mimetype": "text/x-python",
   "name": "python",
   "nbconvert_exporter": "python",
   "pygments_lexer": "ipython3",
   "version": "3.7.4"
  }
 },
 "nbformat": 4,
 "nbformat_minor": 2
}
